{
 "cells": [
  {
   "cell_type": "markdown",
   "metadata": {},
   "source": [
    "# Домашнее задание\n",
    "1. Переведите содержимое файла purchase_log.txt в словарь purchases вида:\n",
    "```python\n",
    "{'1840e0b9d4': 'Продукты', ...}\n",
    "```\n",
    "\n",
    "2. Для каждого user_id в файле visit_log.csv определите третий столбец с категорией покупки (если покупка была, сам файл visit_log.csv изменять не надо). Запишите в файл funnel.csv визиты из файла visit_log.csv, в которых были покупки с указанием категории.\n",
    "\n",
    "Учтите условия на данные:\n",
    "- содержимое purchase_log.txt помещается в оперативную память компьютера\n",
    "- содержимое visit_log.csv - нет; используйте только построчную обработку этого файла"
   ]
  },
  {
   "cell_type": "markdown",
   "metadata": {},
   "source": [
    "1. В первом задании формат строк в файле - JSON --> json.loads()\n",
    "2. Достать user_id из первого столбца\n",
    "3. Проверка, что у пользователя была покупка:\n",
    "- цикл по словарю из первого задания (работает минут 40)\n",
    "- поиск по словарю:\n",
    "```python\n",
    "if user_id in purchases:  # используйте этот вариант\n",
    "```"
   ]
  },
  {
   "cell_type": "markdown",
   "metadata": {},
   "source": [
    "1.Переведите содержимое файла purchase_log.txt в словарь purchases вида:\n",
    "\n",
    "  {'1840e0b9d4': 'Продукты', ...}"
   ]
  },
  {
   "cell_type": "code",
   "execution_count": 1,
   "metadata": {},
   "outputs": [
    {
     "name": "stdout",
     "output_type": "stream",
     "text": [
      "{'1840e0b9d4': 'Продукты', '4e4f90fcfb': 'Электроника', 'afea8d72fc': 'Электроника', '373a6055fe': 'Бытовая техника', '9b2ab046f3': 'Электроника', '9f39d307c3': 'Электроника', '44edeffc91': 'Продукты'}\n"
     ]
    }
   ],
   "source": [
    "import json\n",
    "f = open('purchase_log.txt', encoding='UTF-8')\n",
    "next(f)\n",
    "my_dict = {}\n",
    "for i, line in enumerate(f):\n",
    "    line = line.strip()\n",
    "#     print(line)\n",
    "   \n",
    "    purchases_dict = json.loads(line)\n",
    "#     print(purchases_dict)\n",
    "    \n",
    "    my_dict[purchases_dict['user_id']] = purchases_dict['category']\n",
    "    \n",
    "    if i > 5:\n",
    "        break\n",
    "print(my_dict)\n",
    "\n",
    "\n",
    "f.close()"
   ]
  },
  {
   "cell_type": "code",
   "execution_count": 2,
   "metadata": {},
   "outputs": [],
   "source": [
    "\n",
    "my_dict = {}\n",
    "with open('purchase_log.txt', 'r', encoding='utf-8') as f:\n",
    "    \n",
    "    for i, line in enumerate(f):\n",
    "        line = line.strip() \n",
    "#         print(i, line)\n",
    "        purchases_dict = json.loads(line)\n",
    "        my_dict[purchases_dict['user_id']] = purchases_dict['category']\n",
    "        \n",
    "with open('funnel.csv', 'w', encoding='utf-8') as f_write:\n",
    "    with open('visit_log.csv', 'r', encoding='utf-8') as f_:\n",
    "        for line in f_:\n",
    "            user_id, source = line.strip().split(',')\n",
    "            category = my_dict.get(user_id)\n",
    "            if category:\n",
    "                f_write.write(f'{user_id},{source},{category}\\n')\n",
    "\n",
    "#         if i >= 4:\n",
    "#             break\n",
    "        \n",
    "                "
   ]
  },
  {
   "cell_type": "code",
   "execution_count": 3,
   "metadata": {},
   "outputs": [
    {
     "name": "stdout",
     "output_type": "stream",
     "text": [
      "0 ['user_id', 'source', 'category']\n",
      "1 ['1840e0b9d4', 'other', 'Продукты']\n",
      "2 ['4e4f90fcfb', 'context', 'Электроника']\n",
      "3 ['afea8d72fc', 'other', 'Электроника']\n",
      "4 ['2824221f38', 'email', 'Продукты']\n"
     ]
    }
   ],
   "source": [
    "f1 = open('funnel.csv', encoding='UTF-8')\n",
    "for i, l in enumerate(f1):\n",
    "    print(i, l.strip().split(','))\n",
    "    \n",
    "    if i >= 4:\n",
    "        break\n",
    "        \n",
    "    "
   ]
  },
  {
   "cell_type": "code",
   "execution_count": 81,
   "metadata": {},
   "outputs": [],
   "source": [
    "?f1"
   ]
  },
  {
   "cell_type": "code",
   "execution_count": null,
   "metadata": {},
   "outputs": [],
   "source": []
  }
 ],
 "metadata": {
  "kernelspec": {
   "display_name": "Python 3 (ipykernel)",
   "language": "python",
   "name": "python3"
  },
  "language_info": {
   "codemirror_mode": {
    "name": "ipython",
    "version": 3
   },
   "file_extension": ".py",
   "mimetype": "text/x-python",
   "name": "python",
   "nbconvert_exporter": "python",
   "pygments_lexer": "ipython3",
   "version": "3.9.12"
  }
 },
 "nbformat": 4,
 "nbformat_minor": 2
}
